{
 "cells": [
  {
   "cell_type": "code",
   "execution_count": 21,
   "id": "e6d642bb",
   "metadata": {},
   "outputs": [],
   "source": [
    "import pandas as pd\n",
    "from sklearn.model_selection import train_test_split\n",
    "from sklearn.ensemble import RandomForestClassifier\n",
    "from sklearn.metrics import accuracy_score, classification_report\n",
    "from sklearn.preprocessing import OneHotEncoder\n",
    "from sklearn.compose import ColumnTransformer\n",
    "from sklearn.pipeline import Pipeline"
   ]
  },
  {
   "cell_type": "code",
   "execution_count": 22,
   "id": "bad5012c",
   "metadata": {},
   "outputs": [
    {
     "data": {
      "text/html": [
       "<div>\n",
       "<style scoped>\n",
       "    .dataframe tbody tr th:only-of-type {\n",
       "        vertical-align: middle;\n",
       "    }\n",
       "\n",
       "    .dataframe tbody tr th {\n",
       "        vertical-align: top;\n",
       "    }\n",
       "\n",
       "    .dataframe thead th {\n",
       "        text-align: right;\n",
       "    }\n",
       "</style>\n",
       "<table border=\"1\" class=\"dataframe\">\n",
       "  <thead>\n",
       "    <tr style=\"text-align: right;\">\n",
       "      <th></th>\n",
       "      <th>Order_ID</th>\n",
       "      <th>Drone_ID</th>\n",
       "      <th>Pickup_Location</th>\n",
       "      <th>Delivery_Location</th>\n",
       "      <th>Distance_km</th>\n",
       "      <th>ETA_minutes</th>\n",
       "      <th>Package_Weight_kg</th>\n",
       "      <th>Drone_Battery_Percentage</th>\n",
       "      <th>Weather_Condition</th>\n",
       "      <th>Priority_Level</th>\n",
       "    </tr>\n",
       "  </thead>\n",
       "  <tbody>\n",
       "    <tr>\n",
       "      <th>0</th>\n",
       "      <td>ORD_001</td>\n",
       "      <td>DRN_7</td>\n",
       "      <td>(12.235946, 77.917285)</td>\n",
       "      <td>(13.65805, 79.545898)</td>\n",
       "      <td>32.72</td>\n",
       "      <td>15</td>\n",
       "      <td>4.13</td>\n",
       "      <td>68</td>\n",
       "      <td>Rainy</td>\n",
       "      <td>High</td>\n",
       "    </tr>\n",
       "    <tr>\n",
       "      <th>1</th>\n",
       "      <td>ORD_002</td>\n",
       "      <td>DRN_18</td>\n",
       "      <td>(12.313546, 77.651711)</td>\n",
       "      <td>(12.683793, 76.805723)</td>\n",
       "      <td>21.88</td>\n",
       "      <td>117</td>\n",
       "      <td>5.94</td>\n",
       "      <td>40</td>\n",
       "      <td>Clear</td>\n",
       "      <td>Low</td>\n",
       "    </tr>\n",
       "    <tr>\n",
       "      <th>2</th>\n",
       "      <td>ORD_003</td>\n",
       "      <td>DRN_8</td>\n",
       "      <td>(14.646797, 76.391557)</td>\n",
       "      <td>(14.138075, 76.084961)</td>\n",
       "      <td>31.86</td>\n",
       "      <td>73</td>\n",
       "      <td>1.75</td>\n",
       "      <td>83</td>\n",
       "      <td>Cloudy</td>\n",
       "      <td>Low</td>\n",
       "    </tr>\n",
       "    <tr>\n",
       "      <th>3</th>\n",
       "      <td>ORD_004</td>\n",
       "      <td>DRN_15</td>\n",
       "      <td>(12.255542, 77.475917)</td>\n",
       "      <td>(14.548739, 79.854569)</td>\n",
       "      <td>28.77</td>\n",
       "      <td>109</td>\n",
       "      <td>2.52</td>\n",
       "      <td>85</td>\n",
       "      <td>Windy</td>\n",
       "      <td>High</td>\n",
       "    </tr>\n",
       "    <tr>\n",
       "      <th>4</th>\n",
       "      <td>ORD_005</td>\n",
       "      <td>DRN_15</td>\n",
       "      <td>(12.668719, 75.383615)</td>\n",
       "      <td>(14.331255, 75.05743)</td>\n",
       "      <td>24.23</td>\n",
       "      <td>74</td>\n",
       "      <td>14.98</td>\n",
       "      <td>63</td>\n",
       "      <td>Clear</td>\n",
       "      <td>High</td>\n",
       "    </tr>\n",
       "  </tbody>\n",
       "</table>\n",
       "</div>"
      ],
      "text/plain": [
       "  Order_ID Drone_ID         Pickup_Location       Delivery_Location  \\\n",
       "0  ORD_001    DRN_7  (12.235946, 77.917285)   (13.65805, 79.545898)   \n",
       "1  ORD_002   DRN_18  (12.313546, 77.651711)  (12.683793, 76.805723)   \n",
       "2  ORD_003    DRN_8  (14.646797, 76.391557)  (14.138075, 76.084961)   \n",
       "3  ORD_004   DRN_15  (12.255542, 77.475917)  (14.548739, 79.854569)   \n",
       "4  ORD_005   DRN_15  (12.668719, 75.383615)   (14.331255, 75.05743)   \n",
       "\n",
       "   Distance_km  ETA_minutes  Package_Weight_kg  Drone_Battery_Percentage  \\\n",
       "0        32.72           15               4.13                        68   \n",
       "1        21.88          117               5.94                        40   \n",
       "2        31.86           73               1.75                        83   \n",
       "3        28.77          109               2.52                        85   \n",
       "4        24.23           74              14.98                        63   \n",
       "\n",
       "  Weather_Condition Priority_Level  \n",
       "0             Rainy           High  \n",
       "1             Clear            Low  \n",
       "2            Cloudy            Low  \n",
       "3             Windy           High  \n",
       "4             Clear           High  "
      ]
     },
     "execution_count": 22,
     "metadata": {},
     "output_type": "execute_result"
    }
   ],
   "source": [
    "df=pd.read_csv(\"C:/Users/sagan/Downloads/drone_delivery_routes.csv\")\n",
    "df.head()"
   ]
  },
  {
   "cell_type": "code",
   "execution_count": 23,
   "id": "bb82fca7",
   "metadata": {},
   "outputs": [],
   "source": [
    "X=df.drop('Priority_Level',axis=1)\n",
    "y=df['Priority_Level']"
   ]
  },
  {
   "cell_type": "code",
   "execution_count": 24,
   "id": "620ff9b0",
   "metadata": {},
   "outputs": [],
   "source": [
    "numeric_features=['Distance_km','Package_Weight_kg','Drone_Battery_Percentage']\n",
    "categorical_features=['Weather_Condition']"
   ]
  },
  {
   "cell_type": "code",
   "execution_count": 25,
   "id": "6e277f41",
   "metadata": {},
   "outputs": [],
   "source": [
    "preprocessor=ColumnTransformer(transformers=[('num','passthrough',numeric_features),('cat',OneHotEncoder(),categorical_features)])"
   ]
  },
  {
   "cell_type": "code",
   "execution_count": 26,
   "id": "f5dcdfdf",
   "metadata": {},
   "outputs": [],
   "source": [
    "model=Pipeline(steps=[('preprocessor',preprocessor),('classifier',RandomForestClassifier(random_state=42))])"
   ]
  },
  {
   "cell_type": "code",
   "execution_count": 27,
   "id": "5902a960",
   "metadata": {},
   "outputs": [
    {
     "name": "stdout",
     "output_type": "stream",
     "text": [
      "Accuracy Score: 0.35\n",
      "Classification Report:\n",
      "               precision    recall  f1-score   support\n",
      "\n",
      "        High       0.60      0.38      0.46         8\n",
      "         Low       0.33      0.29      0.31         7\n",
      "      Medium       0.22      0.40      0.29         5\n",
      "\n",
      "    accuracy                           0.35        20\n",
      "   macro avg       0.39      0.35      0.35        20\n",
      "weighted avg       0.41      0.35      0.36        20\n",
      "\n"
     ]
    }
   ],
   "source": [
    "X_train,X_test,y_train,y_test=train_test_split(X,y,test_size=0.2,random_state=42)\n",
    "model.fit(X_train,y_train)\n",
    "y_pred=model.predict(X_test)\n",
    "print(\"Accuracy Score:\",accuracy_score(y_test,y_pred))\n",
    "print(\"Classification Report:\\n\",classification_report(y_test,y_pred))\n",
    "\n",
    "\n",
    "\n",
    "\n",
    "print(\"Classification Report:\\n\",classification_report(y_test,y_pred))\n",
    "print(\"ACcuracyScore:\",accuracy_score(y_test,y_pred))\n",
    "y_pred=model.predict(X_test)\n",
    "model.fit(X_train,y_train)\n",
    "X_train,X_test,y_train,y_test=train_test_split(X,y,test_size=0.2,random_state=42)\n"
   ]
  },
  {
   "cell_type": "code",
   "execution_count": 29,
   "id": "97cda5a4",
   "metadata": {},
   "outputs": [
    {
     "name": "stdout",
     "output_type": "stream",
     "text": [
      "Predicted Priority Level for new data: ['Medium']\n"
     ]
    }
   ],
   "source": [
    "new_data=pd.DataFrame({\n",
    "    'Distance_km':[10.5],\n",
    "    'Package_Weight_kg':[2.3],\n",
    "    'Drone_Battery_Percentage':[75],\n",
    "    'Weather_Condition':['Clear']\n",
    "})\n",
    "new_priority=model.predict(new_data)\n",
    "print(\"Predicted Priority Level for new data:\",new_priority)"
   ]
  },
  {
   "cell_type": "code",
   "execution_count": null,
   "id": "2bd38526",
   "metadata": {},
   "outputs": [],
   "source": []
  }
 ],
 "metadata": {
  "kernelspec": {
   "display_name": "Python 3 (ipykernel)",
   "language": "python",
   "name": "python3"
  },
  "language_info": {
   "codemirror_mode": {
    "name": "ipython",
    "version": 3
   },
   "file_extension": ".py",
   "mimetype": "text/x-python",
   "name": "python",
   "nbconvert_exporter": "python",
   "pygments_lexer": "ipython3",
   "version": "3.10.9"
  }
 },
 "nbformat": 4,
 "nbformat_minor": 5
}
